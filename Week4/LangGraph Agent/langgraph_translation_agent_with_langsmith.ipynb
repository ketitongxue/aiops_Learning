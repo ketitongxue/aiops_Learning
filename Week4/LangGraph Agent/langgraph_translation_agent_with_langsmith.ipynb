{
 "cells": [
  {
   "cell_type": "markdown",
   "metadata": {},
   "source": [
    "# 用 LangGraph 实现 Translation Agent"
   ]
  },
  {
   "cell_type": "code",
   "execution_count": 1,
   "metadata": {},
   "outputs": [
    {
     "name": "stdout",
     "output_type": "stream",
     "text": [
      "Requirement already satisfied: langgraph in c:\\users\\keti\\anaconda3\\envs\\py310\\lib\\site-packages (0.2.53)\n",
      "Requirement already satisfied: langsmith in c:\\users\\keti\\anaconda3\\envs\\py310\\lib\\site-packages (0.1.147)\n",
      "Requirement already satisfied: langchain-openai in c:\\users\\keti\\anaconda3\\envs\\py310\\lib\\site-packages (0.2.10)\n",
      "Requirement already satisfied: langchain-core!=0.3.0,!=0.3.1,!=0.3.10,!=0.3.11,!=0.3.12,!=0.3.13,!=0.3.14,!=0.3.2,!=0.3.3,!=0.3.4,!=0.3.5,!=0.3.6,!=0.3.7,!=0.3.8,!=0.3.9,<0.4.0,>=0.2.43 in c:\\users\\keti\\anaconda3\\envs\\py310\\lib\\site-packages (from langgraph) (0.3.21)\n",
      "Requirement already satisfied: langgraph-checkpoint<3.0.0,>=2.0.4 in c:\\users\\keti\\anaconda3\\envs\\py310\\lib\\site-packages (from langgraph) (2.0.7)\n",
      "Requirement already satisfied: langgraph-sdk<0.2.0,>=0.1.32 in c:\\users\\keti\\anaconda3\\envs\\py310\\lib\\site-packages (from langgraph) (0.1.39)\n",
      "Requirement already satisfied: httpx<1,>=0.23.0 in c:\\users\\keti\\anaconda3\\envs\\py310\\lib\\site-packages (from langsmith) (0.27.2)\n",
      "Requirement already satisfied: orjson<4.0.0,>=3.9.14 in c:\\users\\keti\\anaconda3\\envs\\py310\\lib\\site-packages (from langsmith) (3.10.12)\n",
      "Requirement already satisfied: pydantic<3,>=1 in c:\\users\\keti\\anaconda3\\envs\\py310\\lib\\site-packages (from langsmith) (2.10.2)\n",
      "Requirement already satisfied: requests<3,>=2 in c:\\users\\keti\\anaconda3\\envs\\py310\\lib\\site-packages (from langsmith) (2.32.3)\n",
      "Requirement already satisfied: requests-toolbelt<2.0.0,>=1.0.0 in c:\\users\\keti\\anaconda3\\envs\\py310\\lib\\site-packages (from langsmith) (1.0.0)\n",
      "Requirement already satisfied: openai<2.0.0,>=1.54.0 in c:\\users\\keti\\anaconda3\\envs\\py310\\lib\\site-packages (from langchain-openai) (1.55.2)\n",
      "Requirement already satisfied: tiktoken<1,>=0.7 in c:\\users\\keti\\anaconda3\\envs\\py310\\lib\\site-packages (from langchain-openai) (0.8.0)\n",
      "Requirement already satisfied: anyio in c:\\users\\keti\\anaconda3\\envs\\py310\\lib\\site-packages (from httpx<1,>=0.23.0->langsmith) (4.6.2.post1)\n",
      "Requirement already satisfied: certifi in c:\\users\\keti\\anaconda3\\envs\\py310\\lib\\site-packages (from httpx<1,>=0.23.0->langsmith) (2024.8.30)\n",
      "Requirement already satisfied: httpcore==1.* in c:\\users\\keti\\anaconda3\\envs\\py310\\lib\\site-packages (from httpx<1,>=0.23.0->langsmith) (1.0.7)\n",
      "Requirement already satisfied: idna in c:\\users\\keti\\anaconda3\\envs\\py310\\lib\\site-packages (from httpx<1,>=0.23.0->langsmith) (3.10)\n",
      "Requirement already satisfied: sniffio in c:\\users\\keti\\anaconda3\\envs\\py310\\lib\\site-packages (from httpx<1,>=0.23.0->langsmith) (1.3.1)\n",
      "Requirement already satisfied: h11<0.15,>=0.13 in c:\\users\\keti\\anaconda3\\envs\\py310\\lib\\site-packages (from httpcore==1.*->httpx<1,>=0.23.0->langsmith) (0.14.0)\n",
      "Requirement already satisfied: PyYAML>=5.3 in c:\\users\\keti\\anaconda3\\envs\\py310\\lib\\site-packages (from langchain-core!=0.3.0,!=0.3.1,!=0.3.10,!=0.3.11,!=0.3.12,!=0.3.13,!=0.3.14,!=0.3.2,!=0.3.3,!=0.3.4,!=0.3.5,!=0.3.6,!=0.3.7,!=0.3.8,!=0.3.9,<0.4.0,>=0.2.43->langgraph) (6.0.2)\n",
      "Requirement already satisfied: jsonpatch<2.0,>=1.33 in c:\\users\\keti\\anaconda3\\envs\\py310\\lib\\site-packages (from langchain-core!=0.3.0,!=0.3.1,!=0.3.10,!=0.3.11,!=0.3.12,!=0.3.13,!=0.3.14,!=0.3.2,!=0.3.3,!=0.3.4,!=0.3.5,!=0.3.6,!=0.3.7,!=0.3.8,!=0.3.9,<0.4.0,>=0.2.43->langgraph) (1.33)\n",
      "Requirement already satisfied: packaging<25,>=23.2 in c:\\users\\keti\\anaconda3\\envs\\py310\\lib\\site-packages (from langchain-core!=0.3.0,!=0.3.1,!=0.3.10,!=0.3.11,!=0.3.12,!=0.3.13,!=0.3.14,!=0.3.2,!=0.3.3,!=0.3.4,!=0.3.5,!=0.3.6,!=0.3.7,!=0.3.8,!=0.3.9,<0.4.0,>=0.2.43->langgraph) (24.2)\n",
      "Requirement already satisfied: tenacity!=8.4.0,<10.0.0,>=8.1.0 in c:\\users\\keti\\anaconda3\\envs\\py310\\lib\\site-packages (from langchain-core!=0.3.0,!=0.3.1,!=0.3.10,!=0.3.11,!=0.3.12,!=0.3.13,!=0.3.14,!=0.3.2,!=0.3.3,!=0.3.4,!=0.3.5,!=0.3.6,!=0.3.7,!=0.3.8,!=0.3.9,<0.4.0,>=0.2.43->langgraph) (9.0.0)\n",
      "Requirement already satisfied: typing-extensions>=4.7 in c:\\users\\keti\\anaconda3\\envs\\py310\\lib\\site-packages (from langchain-core!=0.3.0,!=0.3.1,!=0.3.10,!=0.3.11,!=0.3.12,!=0.3.13,!=0.3.14,!=0.3.2,!=0.3.3,!=0.3.4,!=0.3.5,!=0.3.6,!=0.3.7,!=0.3.8,!=0.3.9,<0.4.0,>=0.2.43->langgraph) (4.12.2)\n",
      "Requirement already satisfied: msgpack<2.0.0,>=1.1.0 in c:\\users\\keti\\anaconda3\\envs\\py310\\lib\\site-packages (from langgraph-checkpoint<3.0.0,>=2.0.4->langgraph) (1.1.0)\n",
      "Requirement already satisfied: httpx-sse>=0.4.0 in c:\\users\\keti\\anaconda3\\envs\\py310\\lib\\site-packages (from langgraph-sdk<0.2.0,>=0.1.32->langgraph) (0.4.0)\n",
      "Requirement already satisfied: distro<2,>=1.7.0 in c:\\users\\keti\\anaconda3\\envs\\py310\\lib\\site-packages (from openai<2.0.0,>=1.54.0->langchain-openai) (1.9.0)\n",
      "Requirement already satisfied: jiter<1,>=0.4.0 in c:\\users\\keti\\anaconda3\\envs\\py310\\lib\\site-packages (from openai<2.0.0,>=1.54.0->langchain-openai) (0.8.0)\n",
      "Requirement already satisfied: tqdm>4 in c:\\users\\keti\\anaconda3\\envs\\py310\\lib\\site-packages (from openai<2.0.0,>=1.54.0->langchain-openai) (4.67.1)\n",
      "Requirement already satisfied: annotated-types>=0.6.0 in c:\\users\\keti\\anaconda3\\envs\\py310\\lib\\site-packages (from pydantic<3,>=1->langsmith) (0.7.0)\n",
      "Requirement already satisfied: pydantic-core==2.27.1 in c:\\users\\keti\\anaconda3\\envs\\py310\\lib\\site-packages (from pydantic<3,>=1->langsmith) (2.27.1)\n",
      "Requirement already satisfied: charset-normalizer<4,>=2 in c:\\users\\keti\\anaconda3\\envs\\py310\\lib\\site-packages (from requests<3,>=2->langsmith) (3.4.0)\n",
      "Requirement already satisfied: urllib3<3,>=1.21.1 in c:\\users\\keti\\anaconda3\\envs\\py310\\lib\\site-packages (from requests<3,>=2->langsmith) (2.2.3)\n",
      "Requirement already satisfied: regex>=2022.1.18 in c:\\users\\keti\\anaconda3\\envs\\py310\\lib\\site-packages (from tiktoken<1,>=0.7->langchain-openai) (2024.11.6)\n",
      "Requirement already satisfied: exceptiongroup>=1.0.2 in c:\\users\\keti\\anaconda3\\envs\\py310\\lib\\site-packages (from anyio->httpx<1,>=0.23.0->langsmith) (1.2.2)\n",
      "Requirement already satisfied: jsonpointer>=1.9 in c:\\users\\keti\\anaconda3\\envs\\py310\\lib\\site-packages (from jsonpatch<2.0,>=1.33->langchain-core!=0.3.0,!=0.3.1,!=0.3.10,!=0.3.11,!=0.3.12,!=0.3.13,!=0.3.14,!=0.3.2,!=0.3.3,!=0.3.4,!=0.3.5,!=0.3.6,!=0.3.7,!=0.3.8,!=0.3.9,<0.4.0,>=0.2.43->langgraph) (3.0.0)\n",
      "Requirement already satisfied: colorama in c:\\users\\keti\\anaconda3\\envs\\py310\\lib\\site-packages (from tqdm>4->openai<2.0.0,>=1.54.0->langchain-openai) (0.4.6)\n"
     ]
    }
   ],
   "source": [
    "! pip install langgraph langsmith langchain-openai"
   ]
  },
  {
   "cell_type": "code",
   "execution_count": null,
   "metadata": {},
   "outputs": [],
   "source": [
    "from typing import TypedDict, Annotated\n",
    "from langchain_openai import ChatOpenAI\n",
    "from langgraph.graph.message import add_messages\n",
    "from langgraph.graph import StateGraph\n",
    "from IPython.display import Image, display\n",
    "from langgraph.graph import StateGraph, START, END\n",
    "from dotenv import load_dotenv\n",
    "import os\n",
    "\n",
    "load_dotenv()\n",
    "\n",
    "os.environ[\"LANGCHAIN_TRACING_V2\"] = \"true\"\n",
    "os.environ[\"LANGCHAIN_ENDPOINT\"] = \"https://api.smith.langchain.com\"\n",
    "# LangSmith 项目名称，生成 APIKEY的时候会给\n",
    "os.environ[\"LANGCHAIN_PROJECT\"] = \"pr-gripping-utilisation-66\""
   ]
  }
 ],
 "metadata": {
  "kernelspec": {
   "display_name": "py310",
   "language": "python",
   "name": "python3"
  },
  "language_info": {
   "codemirror_mode": {
    "name": "ipython",
    "version": 3
   },
   "file_extension": ".py",
   "mimetype": "text/x-python",
   "name": "python",
   "nbconvert_exporter": "python",
   "pygments_lexer": "ipython3",
   "version": "3.10.15"
  }
 },
 "nbformat": 4,
 "nbformat_minor": 2
}
